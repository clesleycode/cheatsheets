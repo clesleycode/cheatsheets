{
 "cells": [
  {
   "cell_type": "markdown",
   "metadata": {},
   "source": [
    "# ARIMA Models with Python \n",
    "\n",
    "Autoregressive Integrated Moving Average (ARIMA) models are a forecasting technique that projects the future values of a series. ARIMA is particularly useful when the data is reasonably long (38+ points) and the correlation between past observations is stable.\n",
    "\n",
    "# statsmodels.tsa.arima_model\n",
    "\n",
    "``` python\n",
    "import statsmodels.tsa.arima_model\n",
    "```\n",
    "\n",
    "## parameters\n",
    "\n",
    "class statsmodels.tsa.arima_model.ARIMA(endog, order, exog=None, dates=None, freq=None, missing='none')\n",
    "\n",
    "endog: the endogenous variable\n",
    "\n",
    "order: the order of the model for the number of AR parameters, differences, and MA parameters to use\n",
    "\n",
    "exog: optional array for exogenous variables\n",
    "\n",
    "dates: collection of datetime object \n",
    "\n",
    "freq: optional string for the frequency of the time series\n",
    "\n",
    "## attributes\n",
    "\n",
    "endog_names: names of endogenous variables\n",
    "\n",
    "exog_names: names of exogenous variables\n",
    "\n",
    "### ARIMAResults\n",
    "\n",
    "aic()\n",
    "\n",
    "arfreq() # Returns the frequency of the AR roots\n",
    "\n",
    "arparams()\t\n",
    "arroots()\t\n",
    "bic()\t\n",
    "bse()\n",
    "\n",
    "conf_int([alpha, cols, method])\t# Returns the confidence interval of the fitted parameters\n",
    "\n",
    "cov_params()\t\n",
    "\n",
    "f_test(r_matrix[, cov_p, scale, invcov]) # Computes the F-test for a joint linear hypothesis\n",
    "\n",
    "fittedvalues()\t\n",
    "\n",
    "forecast([steps, exog, alpha]) \n",
    "\n",
    "hqic()\t\n",
    "\n",
    "`initialize(model, params, **kwd)`\t\n",
    "\n",
    "llf()\t\n",
    "\n",
    "load(fname)\t# loads a pickle\n",
    "\n",
    "mafreq() #Returns the frequency of the MA roots.\n",
    "\n",
    "maparams()\t\n",
    "\n",
    "maroots()\t\n",
    "\n",
    "normalized_cov_params()\t\n",
    "\n",
    "plot_predict([start, end, exog, dynamic, ...]) # plots forecasts\n",
    "\n",
    "predict([start, end, exog, typ, dynamic]) # ARIMA model in-sample and out-of-sample prediction\n",
    "\n",
    "pvalues()\t\n",
    "\n",
    "remove_data() # removes nobs arrays from result and model\n",
    "\n",
    "resid()\t\n",
    "\n",
    "save(fname[, remove_data]) # saves a pickle of this instance\n",
    "\n",
    "summary([alpha]) # summarizes the model\n",
    "\n",
    "summary2([title, alpha, float_format]) # experimental summary function for ARIMA Results\n",
    "\n",
    "t_test(r_matrix[, cov_p, scale, use_t])\t# computes a t-test for each linear hypothesis in the form Rb = q\n",
    "\n",
    "tvalues() # returns the t-statistic for a given parameter estimate\n",
    "\n",
    "wald_test(r_matrix[, cov_p, scale, invcov, ...]) # computes a Wald-test for a joint linear hypothesis\n",
    "\n",
    "wald_test_terms([skip_single, ...])\t# computes a sequence of Wald tests for terms over multiple columns"
   ]
  },
  {
   "cell_type": "markdown",
   "metadata": {},
   "source": [
    "### scores\n",
    "\n",
    "ARIMA.score(params) # computes the score function"
   ]
  },
  {
   "cell_type": "markdown",
   "metadata": {},
   "source": [
    "### predict\n",
    "\n",
    "ARIMA.predict(params, start=None, end=None, exog=None, typ='linear', dynamic=False) # predicts values"
   ]
  },
  {
   "cell_type": "markdown",
   "metadata": {},
   "source": [
    "### loglike\n",
    "\n",
    "ARIMA.loglike(params, set_sigma2=True) # computes the log-likelihood"
   ]
  },
  {
   "cell_type": "markdown",
   "metadata": {},
   "source": [
    "### loglike_kalman\n",
    "\n",
    "ARIMA.loglike_kalman(params, set_sigma2=True) # computes exact loglikelihood with the Kalman Filter"
   ]
  },
  {
   "cell_type": "markdown",
   "metadata": {},
   "source": [
    "### loglike_css \n",
    "\n",
    "ARIMA.loglike_css(params, set_sigma2=True) # computes the loglikelihood with Conditional Sum of Squares likelihood function."
   ]
  },
  {
   "cell_type": "markdown",
   "metadata": {},
   "source": [
    "### initialize\n",
    "\n",
    "ARIMA.initialize() # initializes a model instance"
   ]
  },
  {
   "cell_type": "markdown",
   "metadata": {},
   "source": [
    "### information\n",
    "\n",
    "ARIMA.information(params) # provides fisher information matrix of model"
   ]
  },
  {
   "cell_type": "markdown",
   "metadata": {},
   "source": [
    "### hessian\n",
    "\n",
    "ARIMA.hessian(params) # computes the Hessian "
   ]
  },
  {
   "cell_type": "markdown",
   "metadata": {},
   "source": [
    "### geterrors\n",
    "\n",
    "ARIMA.geterrors(params) "
   ]
  },
  {
   "cell_type": "markdown",
   "metadata": {},
   "source": [
    "### from_formula\n",
    "\n",
    "`ARIMA.from_formula(formula, data, subset=None, drop_cols=None, *args, **kwargs)` # creates a Model from a formula and dataframe"
   ]
  },
  {
   "cell_type": "markdown",
   "metadata": {},
   "source": [
    "### fit() \n",
    "\n",
    "`ARIMA.fit(start_params=None, trend='c', method='css-mle', transparams=True, solver='lbfgs', maxiter=50, full_output=1, disp=5, callback=None, start_ar_lags=None, **kwargs)` # fits ARIMA(p,d,q) model by exact maximum likelihood via Kalman filter"
   ]
  },
  {
   "cell_type": "code",
   "execution_count": null,
   "metadata": {
    "collapsed": true
   },
   "outputs": [],
   "source": []
  }
 ],
 "metadata": {
  "kernelspec": {
   "display_name": "Python 3",
   "language": "python",
   "name": "python3"
  },
  "language_info": {
   "codemirror_mode": {
    "name": "ipython",
    "version": 3
   },
   "file_extension": ".py",
   "mimetype": "text/x-python",
   "name": "python",
   "nbconvert_exporter": "python",
   "pygments_lexer": "ipython3",
   "version": "3.6.1"
  }
 },
 "nbformat": 4,
 "nbformat_minor": 2
}
