{
 "cells": [
  {
   "cell_type": "code",
   "execution_count": 2,
   "metadata": {
    "collapsed": true
   },
   "outputs": [],
   "source": [
    "import lightfm"
   ]
  },
  {
   "cell_type": "markdown",
   "metadata": {},
   "source": [
    "### datasets"
   ]
  },
  {
   "cell_type": "raw",
   "metadata": {},
   "source": [
    "lightfm.datasets.fetch_movielens()"
   ]
  },
  {
   "cell_type": "code",
   "execution_count": 3,
   "metadata": {},
   "outputs": [
    {
     "data": {
      "text/plain": [
       "<lightfm.lightfm.LightFM at 0x103ffd278>"
      ]
     },
     "execution_count": 3,
     "metadata": {},
     "output_type": "execute_result"
    }
   ],
   "source": [
    "lightfm.LightFM() # hybrid recommender model"
   ]
  },
  {
   "cell_type": "markdown",
   "metadata": {},
   "source": [
    "### parameters"
   ]
  },
  {
   "cell_type": "markdown",
   "metadata": {},
   "source": [
    "no_components # feature dimensionality \n",
    "\n",
    "k # for k-OS training\n",
    "\n",
    "n # maximum number of positives sampled for each update\n",
    "\n",
    "learning_schedule #\n",
    "\n",
    "loss # loss function, ex: logistic, kos, etc\n",
    "\n",
    "learning_rate # initial learning rate\n",
    "\n",
    "rho # moving average coefficient\n",
    "\n",
    "epsilon # conditioning parameter\n",
    "\n",
    "item_alpha # L2 penalty on item features\n",
    "\n",
    "user_alpha # L2 penalty on user features\n",
    "\n",
    "max_sampled # maximum number of negatives sampled \n",
    "\n",
    "random_state # pseudo random number generator for initialization"
   ]
  },
  {
   "cell_type": "markdown",
   "metadata": {},
   "source": [
    "### loss functions"
   ]
  },
  {
   "cell_type": "markdown",
   "metadata": {},
   "source": [
    "Logistic # best for pos and neg interactions\n",
    "\n",
    "Bayesian Personalized Ranking (BPR) \n",
    "\n",
    "Weighted Approximate-Rank Pairwise (WARP)\n",
    "\n",
    "k-th Order Statistic Loss WARP (k-OS WARP)"
   ]
  },
  {
   "cell_type": "markdown",
   "metadata": {},
   "source": [
    "### learning rate schedules"
   ]
  },
  {
   "cell_type": "markdown",
   "metadata": {},
   "source": [
    "adagrad\n",
    "\n",
    "adadelta"
   ]
  },
  {
   "cell_type": "code",
   "execution_count": 6,
   "metadata": {},
   "outputs": [
    {
     "data": {
      "text/plain": [
       "<bound method LightFM.fit of <lightfm.lightfm.LightFM object at 0x103ffdd68>>"
      ]
     },
     "execution_count": 6,
     "metadata": {},
     "output_type": "execute_result"
    }
   ],
   "source": [
    "lightfm.LightFM().fit"
   ]
  },
  {
   "cell_type": "markdown",
   "metadata": {},
   "source": [
    "### parameters\n",
    "\n",
    "interactions # matrix of user-item interactions\n",
    "\n",
    "user_features # each row is a user's weights for each feature\n",
    "\n",
    "item_features: # each row is an item's weights for each feature\n",
    "\n",
    "sample_weight \n",
    "\n",
    "epochs # number of epochs to run\n",
    "\n",
    "num_threads # number of parallel computation threads\n",
    "\n",
    "verbose # whether to print progress messages"
   ]
  },
  {
   "cell_type": "code",
   "execution_count": 9,
   "metadata": {},
   "outputs": [
    {
     "data": {
      "text/plain": [
       "<bound method LightFM.fit_partial of <lightfm.lightfm.LightFM object at 0x1040bd940>>"
      ]
     },
     "execution_count": 9,
     "metadata": {},
     "output_type": "execute_result"
    }
   ],
   "source": [
    "lightfm.LightFM().fit_partial"
   ]
  },
  {
   "cell_type": "code",
   "execution_count": null,
   "metadata": {
    "collapsed": true
   },
   "outputs": [],
   "source": [
    "lightfm.LightFM().fit().predict()"
   ]
  },
  {
   "cell_type": "code",
   "execution_count": 10,
   "metadata": {},
   "outputs": [
    {
     "data": {
      "text/plain": [
       "<bound method LightFM.get_item_representations of <lightfm.lightfm.LightFM object at 0x1040bdac8>>"
      ]
     },
     "execution_count": 10,
     "metadata": {},
     "output_type": "execute_result"
    }
   ],
   "source": [
    "lightfm.LightFM().get_item_representations # latent representations"
   ]
  },
  {
   "cell_type": "code",
   "execution_count": 11,
   "metadata": {},
   "outputs": [
    {
     "data": {
      "text/plain": [
       "<bound method LightFM.get_params of <lightfm.lightfm.LightFM object at 0x1040bdba8>>"
      ]
     },
     "execution_count": 11,
     "metadata": {},
     "output_type": "execute_result"
    }
   ],
   "source": [
    "lightfm.LightFM().get_params "
   ]
  },
  {
   "cell_type": "code",
   "execution_count": 12,
   "metadata": {},
   "outputs": [
    {
     "data": {
      "text/plain": [
       "<bound method LightFM.get_user_representations of <lightfm.lightfm.LightFM object at 0x1040bdc88>>"
      ]
     },
     "execution_count": 12,
     "metadata": {},
     "output_type": "execute_result"
    }
   ],
   "source": [
    "lightfm.LightFM().get_user_representations"
   ]
  },
  {
   "cell_type": "code",
   "execution_count": 13,
   "metadata": {},
   "outputs": [
    {
     "data": {
      "text/plain": [
       "<bound method LightFM.predict_rank of <lightfm.lightfm.LightFM object at 0x1040bd5f8>>"
      ]
     },
     "execution_count": 13,
     "metadata": {},
     "output_type": "execute_result"
    }
   ],
   "source": [
    "lightfm.LightFM().predict_rank"
   ]
  },
  {
   "cell_type": "code",
   "execution_count": 14,
   "metadata": {},
   "outputs": [
    {
     "data": {
      "text/plain": [
       "<bound method LightFM.set_params of <lightfm.lightfm.LightFM object at 0x1040bdd68>>"
      ]
     },
     "execution_count": 14,
     "metadata": {},
     "output_type": "execute_result"
    }
   ],
   "source": [
    "lightfm.LightFM().set_params"
   ]
  },
  {
   "cell_type": "code",
   "execution_count": null,
   "metadata": {
    "collapsed": true
   },
   "outputs": [],
   "source": []
  }
 ],
 "metadata": {
  "kernelspec": {
   "display_name": "Python 3",
   "language": "python",
   "name": "python3"
  },
  "language_info": {
   "codemirror_mode": {
    "name": "ipython",
    "version": 3
   },
   "file_extension": ".py",
   "mimetype": "text/x-python",
   "name": "python",
   "nbconvert_exporter": "python",
   "pygments_lexer": "ipython3",
   "version": "3.6.1"
  }
 },
 "nbformat": 4,
 "nbformat_minor": 2
}
